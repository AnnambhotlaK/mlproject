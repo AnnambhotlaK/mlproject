{
 "cells": [
  {
   "cell_type": "markdown",
   "id": "58067356",
   "metadata": {},
   "source": [
    "## NBA - Player Props (Over/Unders) Predictor"
   ]
  },
  {
   "cell_type": "markdown",
   "id": "6374b00b",
   "metadata": {},
   "source": [
    "### Contents:\n",
    "- Understanding the Problem Statement\n",
    "- Data Collection\n",
    "- Data Checks to perform\n",
    "- Exploratory data analysis\n",
    "- Data Pre-Processing\n",
    "- Model Training\n",
    "- Choose best model"
   ]
  },
  {
   "cell_type": "markdown",
   "id": "0098c418",
   "metadata": {},
   "source": [
    "### 1. The Problem Statement"
   ]
  },
  {
   "cell_type": "markdown",
   "id": "6248ed69",
   "metadata": {},
   "source": [
    "### 2. Data Collection\n",
    "- We will be scraping data from Basketball Reference using requests.\n",
    "- Essentially, we will be using a player's recent average stats, as well as who they are playing with/against, in order to predict their statline for a current game.\n"
   ]
  },
  {
   "cell_type": "code",
   "execution_count": 81,
   "id": "c407bd4a",
   "metadata": {},
   "outputs": [],
   "source": [
    "import requests\n",
    "from bs4 import BeautifulSoup\n",
    "from seleniumbase import Driver\n",
    "import time\n",
    "import os\n",
    "import shutil"
   ]
  },
  {
   "cell_type": "code",
   "execution_count": null,
   "id": "9287b39f",
   "metadata": {},
   "outputs": [
    {
     "ename": "KeyboardInterrupt",
     "evalue": "",
     "output_type": "error",
     "traceback": [
      "\u001b[31m---------------------------------------------------------------------------\u001b[39m",
      "\u001b[31mKeyboardInterrupt\u001b[39m                         Traceback (most recent call last)",
      "\u001b[36mCell\u001b[39m\u001b[36m \u001b[39m\u001b[32mIn[82]\u001b[39m\u001b[32m, line 6\u001b[39m\n\u001b[32m      4\u001b[39m driver.uc_open_with_reconnect(url, \u001b[32m4\u001b[39m)\n\u001b[32m      5\u001b[39m driver.uc_gui_click_captcha()\n\u001b[32m----> \u001b[39m\u001b[32m6\u001b[39m \u001b[43mtime\u001b[49m\u001b[43m.\u001b[49m\u001b[43msleep\u001b[49m\u001b[43m(\u001b[49m\u001b[32;43m30\u001b[39;49m\u001b[43m)\u001b[49m\n\u001b[32m      7\u001b[39m driver.quit()\n",
      "\u001b[31mKeyboardInterrupt\u001b[39m: "
     ]
    }
   ],
   "source": [
    "# SeleniumBase example\n",
    "driver = Driver(uc=True, proxy=\"\")\n",
    "url = \"https://2captcha.com/demo/cloudflare-turnstile-challenge\"\n",
    "driver.uc_open_with_reconnect(url, 4)\n",
    "driver.uc_gui_click_captcha()\n",
    "time.sleep(30)\n",
    "driver.quit()"
   ]
  },
  {
   "cell_type": "code",
   "execution_count": 64,
   "id": "e5fb2a18",
   "metadata": {},
   "outputs": [],
   "source": [
    "years = list(range(1991,2022))"
   ]
  },
  {
   "cell_type": "code",
   "execution_count": 65,
   "id": "78f47a3d",
   "metadata": {},
   "outputs": [],
   "source": [
    "url_start = \"https://www.basketball-reference.com/awards/awards_{}.html\"\n",
    "\n",
    "for year in years:\n",
    "    url = url_start.format(year)\n",
    "    \n",
    "    data = requests.get(url)\n",
    "    \n",
    "    with open(\"mvp/{}.html\".format(year), \"w+\") as f:\n",
    "        f.write(data.text)"
   ]
  },
  {
   "cell_type": "markdown",
   "id": "009b48a6",
   "metadata": {},
   "source": [
    "Next, we can extract the data from each year with Beautiful Soup."
   ]
  },
  {
   "cell_type": "code",
   "execution_count": 73,
   "id": "fd444bc3",
   "metadata": {},
   "outputs": [
    {
     "name": "stdout",
     "output_type": "stream",
     "text": [
      "[]\n"
     ]
    }
   ],
   "source": [
    "with open(\"mvp/1991.html\") as f:\n",
    "    page = f.read()\n",
    "    \n",
    "soup = BeautifulSoup(page, 'html')\n",
    "print(soup.find_all('tr', class_=\"over_header\"))"
   ]
  },
  {
   "cell_type": "markdown",
   "id": "bd47f929",
   "metadata": {},
   "source": [
    "### 3. Data Checks"
   ]
  },
  {
   "cell_type": "markdown",
   "id": "1b3384ef",
   "metadata": {},
   "source": [
    "### 4. Exploratory Data Analysis"
   ]
  },
  {
   "cell_type": "markdown",
   "id": "7e5aeff3",
   "metadata": {},
   "source": []
  }
 ],
 "metadata": {
  "kernelspec": {
   "display_name": ".conda",
   "language": "python",
   "name": "python3"
  },
  "language_info": {
   "codemirror_mode": {
    "name": "ipython",
    "version": 3
   },
   "file_extension": ".py",
   "mimetype": "text/x-python",
   "name": "python",
   "nbconvert_exporter": "python",
   "pygments_lexer": "ipython3",
   "version": "3.11.13"
  }
 },
 "nbformat": 4,
 "nbformat_minor": 5
}
